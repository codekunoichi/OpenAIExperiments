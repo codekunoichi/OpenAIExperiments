{
 "cells": [
  {
   "attachments": {},
   "cell_type": "markdown",
   "metadata": {},
   "source": [
    "# Guidelines for Prompting\n",
    "\n",
    "## Prompting Principles\n",
    "- ### Principle 1: Write clear and specific instructions\n",
    "- ### Principle 2: Give the model time to “think”"
   ]
  },
  {
   "attachments": {},
   "cell_type": "markdown",
   "metadata": {},
   "source": [
    "## Setup\n",
    "- I am using codespaces for doing most of my development.\n",
    "- So I added to the requirements.txt the following libraries\n",
    "`openai\n",
    "pandas\n",
    "matplotlib\n",
    "python-dotenv`\n",
    "\n",
    "- Then add the following lines to a setup.sh\n",
    "\n",
    "`#!/bin/bash\n",
    "pip install -r requirements.txt`\n",
    "\n",
    "- Make the setup.sh script executable by running the following command in the terminal:\n",
    "\n",
    "`chmod +x setup.sh`\n",
    "\n",
    "- At the moment, added the `postCreateCommand` in the `.devcontainer/devcontainer.json` not automatically installing the modules. So Once codespaces start, I have to manually execute the setup.sh for now."
   ]
  },
  {
   "cell_type": "code",
   "execution_count": 6,
   "metadata": {},
   "outputs": [],
   "source": [
    "import openai\n",
    "import os\n",
    "\n",
    "from dotenv import load_dotenv, find_dotenv\n",
    "_ = load_dotenv(find_dotenv())\n",
    "\n",
    "openai.api_key  = os.getenv('OPENAI_API_KEY')"
   ]
  },
  {
   "attachments": {},
   "cell_type": "markdown",
   "metadata": {},
   "source": [
    "## Helper Function\n",
    "- Using OpenAI's gpt-3.5-turbo model\n",
    "- Using [chat completion endpoints] (https://platform.openai.com/docs/guides/chat)"
   ]
  },
  {
   "cell_type": "code",
   "execution_count": null,
   "metadata": {},
   "outputs": [],
   "source": [
    "def get_completion(prompt, model=\"gpt-3.5-turbo\"):\n",
    "    messages = [{\"role\": \"user\", \"content\": prompt}]\n",
    "    response = openai.ChatCompletion.create(\n",
    "        model=model,\n",
    "        messages=messages,\n",
    "        temperature=0, # this is the degree of randomness of the model's output\n",
    "    )\n",
    "    return response.choices[0].message[\"content\"]"
   ]
  }
 ],
 "metadata": {
  "kernelspec": {
   "display_name": "Python 3",
   "language": "python",
   "name": "python3"
  },
  "language_info": {
   "codemirror_mode": {
    "name": "ipython",
    "version": 3
   },
   "file_extension": ".py",
   "mimetype": "text/x-python",
   "name": "python",
   "nbconvert_exporter": "python",
   "pygments_lexer": "ipython3",
   "version": "3.10.4"
  },
  "orig_nbformat": 4
 },
 "nbformat": 4,
 "nbformat_minor": 2
}
